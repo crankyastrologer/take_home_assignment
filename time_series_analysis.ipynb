{
 "cells": [
  {
   "cell_type": "code",
   "id": "initial_id",
   "metadata": {
    "collapsed": true,
    "ExecuteTime": {
     "end_time": "2024-07-27T05:58:07.899784Z",
     "start_time": "2024-07-27T05:58:07.894068Z"
    }
   },
   "source": "import pandas as pd",
   "outputs": [],
   "execution_count": 2
  },
  {
   "metadata": {
    "ExecuteTime": {
     "end_time": "2024-07-27T05:58:08.317082Z",
     "start_time": "2024-07-27T05:58:08.299835Z"
    }
   },
   "cell_type": "code",
   "source": "df = pd.read_csv('processed.csv')",
   "id": "5e27d092c9e2bfd8",
   "outputs": [],
   "execution_count": 3
  },
  {
   "metadata": {
    "ExecuteTime": {
     "end_time": "2024-07-27T05:58:15.174934Z",
     "start_time": "2024-07-27T05:58:15.161203Z"
    }
   },
   "cell_type": "code",
   "source": "df.columns",
   "id": "3d92e5d2ef05c76c",
   "outputs": [
    {
     "data": {
      "text/plain": [
       "Index(['Unnamed: 0.2', 'Unnamed: 0.1', 'Unnamed: 0', 'DATE', 'house_price',\n",
       "       'gdp_growth', 'house_inventory', 'Diff_house_inventory', 'inflation',\n",
       "       'material_cost', 'mortgage_rate', 'population_growth', 'shares',\n",
       "       'Unemployment', 'vacancy_rate', 'Total', '1 unit', '2 to 4', '5 units',\n",
       "       '5 ratio', 'house_price_diff', 'rent_price'],\n",
       "      dtype='object')"
      ]
     },
     "execution_count": 4,
     "metadata": {},
     "output_type": "execute_result"
    }
   ],
   "execution_count": 4
  },
  {
   "metadata": {
    "ExecuteTime": {
     "end_time": "2024-07-27T05:58:50.413088Z",
     "start_time": "2024-07-27T05:58:50.402017Z"
    }
   },
   "cell_type": "code",
   "source": "df.drop(['Unnamed: 0','Unnamed: 0.2','Unnamed: 0.1','population_growth'],axis=1,inplace=True)",
   "id": "8c55f5e9119c1bdb",
   "outputs": [],
   "execution_count": 5
  },
  {
   "metadata": {},
   "cell_type": "code",
   "outputs": [],
   "execution_count": null,
   "source": "",
   "id": "b8b3bb72c040e5cd"
  }
 ],
 "metadata": {
  "kernelspec": {
   "display_name": "Python 3",
   "language": "python",
   "name": "python3"
  },
  "language_info": {
   "codemirror_mode": {
    "name": "ipython",
    "version": 2
   },
   "file_extension": ".py",
   "mimetype": "text/x-python",
   "name": "python",
   "nbconvert_exporter": "python",
   "pygments_lexer": "ipython2",
   "version": "2.7.6"
  }
 },
 "nbformat": 4,
 "nbformat_minor": 5
}
